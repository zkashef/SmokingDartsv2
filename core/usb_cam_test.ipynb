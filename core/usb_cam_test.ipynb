{
 "cells": [
  {
   "attachments": {},
   "cell_type": "markdown",
   "metadata": {},
   "source": [
    "Capture Image from both usb cameras"
   ]
  },
  {
   "cell_type": "code",
   "execution_count": 7,
   "metadata": {},
   "outputs": [
    {
     "name": "stdout",
     "output_type": "stream",
     "text": [
      "Camera index available: 0\n",
      "Camera index available: 1\n",
      "Camera index available: 2\n"
     ]
    },
    {
     "name": "stderr",
     "output_type": "stream",
     "text": [
      "OpenCV: out device of bound (0-2): 3\n",
      "OpenCV: camera failed to properly initialize!\n",
      "OpenCV: out device of bound (0-2): 4\n",
      "OpenCV: camera failed to properly initialize!\n",
      "OpenCV: out device of bound (0-2): 5\n",
      "OpenCV: camera failed to properly initialize!\n",
      "OpenCV: out device of bound (0-2): 6\n",
      "OpenCV: camera failed to properly initialize!\n",
      "OpenCV: out device of bound (0-2): 7\n",
      "OpenCV: camera failed to properly initialize!\n",
      "OpenCV: out device of bound (0-2): 8\n",
      "OpenCV: camera failed to properly initialize!\n",
      "OpenCV: out device of bound (0-2): 9\n",
      "OpenCV: camera failed to properly initialize!\n"
     ]
    }
   ],
   "source": [
    "import cv2\n",
    "\n",
    "all_camera_idx_available = []\n",
    "\n",
    "for camera_idx in range(10):\n",
    "    cap = cv2.VideoCapture(camera_idx)\n",
    "    if cap.isOpened():\n",
    "        print(f'Camera index available: {camera_idx}')\n",
    "        all_camera_idx_available.append(camera_idx)\n",
    "        cap.release()\n"
   ]
  },
  {
   "cell_type": "code",
   "execution_count": 8,
   "metadata": {},
   "outputs": [
    {
     "ename": "KeyboardInterrupt",
     "evalue": "",
     "output_type": "error",
     "traceback": [
      "\u001b[0;31m---------------------------------------------------------------------------\u001b[0m",
      "\u001b[0;31mKeyboardInterrupt\u001b[0m                         Traceback (most recent call last)",
      "Cell \u001b[0;32mIn [8], line 8\u001b[0m\n\u001b[1;32m      5\u001b[0m \u001b[39m# display images\u001b[39;00m\n\u001b[1;32m      6\u001b[0m \u001b[39mwhile\u001b[39;00m \u001b[39mTrue\u001b[39;00m:\n\u001b[0;32m----> 8\u001b[0m     ret1, frame1 \u001b[39m=\u001b[39m cam1\u001b[39m.\u001b[39mread()\n\u001b[1;32m      9\u001b[0m     ret2, frame2 \u001b[39m=\u001b[39m cam2\u001b[39m.\u001b[39mread()\n\u001b[1;32m     10\u001b[0m     ret3, frame3 \u001b[39m=\u001b[39m cam3\u001b[39m.\u001b[39mread()\n",
      "\u001b[0;31mKeyboardInterrupt\u001b[0m: "
     ]
    },
    {
     "ename": "",
     "evalue": "",
     "output_type": "error",
     "traceback": [
      "\u001b[1;31mThe Kernel crashed while executing code in the the current cell or a previous cell. Please review the code in the cell(s) to identify a possible cause of the failure. Click <a href='https://aka.ms/vscodeJupyterKernelCrash'>here</a> for more info. View Jupyter <a href='command:jupyter.viewOutput'>log</a> for further details."
     ]
    }
   ],
   "source": [
    "cam1 = cv2.VideoCapture(0)\n",
    "cam2 = cv2.VideoCapture(1)\n",
    "cam3 = cv2.VideoCapture(2)\n",
    "\n",
    "# display images\n",
    "while True:\n",
    "\n",
    "    ret1, frame1 = cam1.read()\n",
    "    ret2, frame2 = cam2.read()\n",
    "    ret3, frame3 = cam3.read()\n",
    "\n",
    "    cv2.imshow('cam1', frame1)\n",
    "    cv2.imshow('cam2', frame2)\n",
    "    cv2.imshow('cam3', frame3)\n",
    "\n",
    "    if cv2.waitKey(1) == 27:\n",
    "        break"
   ]
  }
 ],
 "metadata": {
  "kernelspec": {
   "display_name": "Python 3",
   "language": "python",
   "name": "python3"
  },
  "language_info": {
   "codemirror_mode": {
    "name": "ipython",
    "version": 3
   },
   "file_extension": ".py",
   "mimetype": "text/x-python",
   "name": "python",
   "nbconvert_exporter": "python",
   "pygments_lexer": "ipython3",
   "version": "3.10.7"
  },
  "orig_nbformat": 4,
  "vscode": {
   "interpreter": {
    "hash": "aee8b7b246df8f9039afb4144a1f6fd8d2ca17a180786b69acc140d282b71a49"
   }
  }
 },
 "nbformat": 4,
 "nbformat_minor": 2
}
