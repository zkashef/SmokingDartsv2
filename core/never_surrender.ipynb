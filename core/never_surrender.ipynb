{
 "cells": [
  {
   "cell_type": "code",
   "execution_count": 1,
   "metadata": {},
   "outputs": [],
   "source": [
    "# Load Libraries \n",
    "from scipy.ndimage import center_of_mass\n",
    "from helper_functions import isolate_dart_tip\n",
    "from dartboard_images import DartboardImage\n",
    "import cv2\n",
    "import os\n",
    "import numpy as np\n",
    "import matplotlib.pyplot as plt"
   ]
  },
  {
   "cell_type": "code",
   "execution_count": 5,
   "metadata": {},
   "outputs": [
    {
     "name": "stdout",
     "output_type": "stream",
     "text": [
      "/Users/zach/Desktop/SDP/SmokingDartsv2/core\n",
      "/Users/zach/Desktop/SDP/SmokingDartsv2\n"
     ]
    }
   ],
   "source": [
    "\n",
    "# load images and get current dir\n",
    "\n",
    "#cur_dir = os.path.dirname(os.path.realpath(__file__))\n",
    "cur_dir = os.getcwd()\n",
    "parent_dir = os.path.dirname(cur_dir)\n",
    "print(cur_dir)\n",
    "print(parent_dir)\n",
    "nodart = cv2.imread(os.path.join(parent_dir, 'images', '25.jpg'))\n",
    "dart = cv2.imread(os.path.join(parent_dir, 'images', '30.jpg'))"
   ]
  },
  {
   "cell_type": "code",
   "execution_count": 6,
   "metadata": {},
   "outputs": [
    {
     "name": "stdout",
     "output_type": "stream",
     "text": [
      "coordinates:  1343.7974683544303 475.38607594936707\n"
     ]
    },
    {
     "data": {
      "image/png": "[encoded data removed]",
      "text/plain": [
       "<Figure size 640x480 with 1 Axes>"
      ]
     },
     "metadata": {},
     "output_type": "display_data"
    }
   ],
   "source": [
    "\n",
    "# db\n",
    "db = DartboardImage(\"x\", dart, last_img=nodart)\n",
    "diff = db.get_diff_to_last_img()\n",
    "\n",
    "# crop image bottom half\n",
    "# diff = diff[3*diff.shape[0]//4:, :]\n",
    "\n",
    "# set top half to 0\n",
    "diff[:3*diff.shape[0]//4, :] = 0\n",
    "\n",
    "# flip image\n",
    "diff = cv2.flip(diff, 0)\n",
    "\n",
    "# opencv dilation\n",
    "kernel = np.ones((5,5),np.uint8)\n",
    "diff = cv2.dilate(diff.astype('uint8'),kernel,iterations = 1)\n",
    "\n",
    "# opencv erosion\n",
    "kernel = np.ones((5,5),np.uint8)\n",
    "diff = cv2.erode(diff.astype('uint8'),kernel,iterations = 1)\n",
    "\n",
    "# get the tip\n",
    "isolated_dart_tip = isolate_dart_tip(diff)\n",
    "y_coordinate, x_coordinate = center_of_mass(isolated_dart_tip)\n",
    "print(\"coordinates: \", x_coordinate, y_coordinate)\n",
    "\n",
    "# show image diff\n",
    "plt.imshow(diff, cmap='gray')\n",
    "#plt.imshow(diff, cmap='norm')\n",
    "# plt.imshow(isolated_dart_tip, cmap='gray')\n",
    "plt.show()"
   ]
  }
 ],
 "metadata": {
  "kernelspec": {
   "display_name": "Python 3",
   "language": "python",
   "name": "python3"
  },
  "language_info": {
   "codemirror_mode": {
    "name": "ipython",
    "version": 3
   },
   "file_extension": ".py",
   "mimetype": "text/x-python",
   "name": "python",
   "nbconvert_exporter": "python",
   "pygments_lexer": "ipython3",
   "version": "3.10.7"
  },
  "orig_nbformat": 4,
  "vscode": {
   "interpreter": {
    "hash": "aee8b7b246df8f9039afb4144a1f6fd8d2ca17a180786b69acc140d282b71a49"
   }
  }
 },
 "nbformat": 4,
 "nbformat_minor": 2
}
